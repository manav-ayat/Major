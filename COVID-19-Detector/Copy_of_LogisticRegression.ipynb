{
  "cells": [
    {
      "cell_type": "markdown",
      "metadata": {
        "id": "j8qGhoAt-h5-"
      },
      "source": [
        "### Logistic Regression Classifier in Python - Basic Introduction\n",
        "\n",
        "\n",
        "\n",
        "In logistic regression... basically, you are performing linear regression but applying a sigmoid function for the outcome.\n",
        "\n",
        "#### Sigmoid  / Logistic Function\n",
        "\n",
        "$p =1 / 1 + e^{-y}$\n",
        "\n",
        "#### Properties of Logistic Regression\n",
        "\n",
        "* The dependent variable follows a Bernoulli Distribution\n",
        "* Estimation is maximum likelihood estimation (MLE)\n",
        "\n",
        "#### Advantages\n",
        "* Straight forward, easy to implement, doesn't require high compute power, easy to interpret, used widely. \n",
        "* Doesn't require feature scaling and provides a probability score for observations.\n",
        "\n",
        "#### Disadvantages\n",
        "* Not able to handle a large number of category features/variables. \n",
        "* Vulnerable to overfitting. \n",
        "\n",
        "\n",
        "#### Data\n",
        "Is the candy chocolate?  Let's find out because... yum \n",
        "\n",
        "(This intro was built on a candy-data.csv dataset in DataScience folder also found at\n",
        "\n",
        "https://github.com/fivethirtyeight/data/blob/master/candy-power-ranking/candy-data.csv )"
      ]
    },
    {
      "cell_type": "code",
      "execution_count": 1,
      "metadata": {
        "id": "s_Axz2kLYHH2"
      },
      "outputs": [],
      "source": [
        "# Import libraries, features and settings (not all of these are needed so pull what you need)\n",
        "\n",
        "import matplotlib.pyplot as plt\n",
        "import numpy as np\n",
        "from sklearn import datasets, linear_model\n",
        "from sklearn.metrics import mean_squared_error, r2_score\n",
        "import pandas as pd\n",
        "import io\n",
        "%matplotlib inline\n",
        "import matplotlib.pyplot as plt\n",
        "import seaborn as sns; sns.set()\n",
        "from sklearn import preprocessing\n",
        "plt.rc(\"font\", size = 14)\n",
        "from sklearn.linear_model import LogisticRegression\n",
        "from sklearn.model_selection import train_test_split\n",
        "sns.set(style=\"white\")\n",
        "sns.set(style=\"whitegrid\", color_codes = True)"
      ]
    },
    {
      "cell_type": "code",
      "execution_count": 4,
      "metadata": {
        "colab": {
          "base_uri": "https://localhost:8080/",
          "height": 206
        },
        "id": "dUU6rS-TZGAN",
        "outputId": "a77bd079-41f2-4d57-ac48-f8d1a2f8a4af"
      },
      "outputs": [
        {
          "data": {
            "text/html": [
              "<div>\n",
              "<style scoped>\n",
              "    .dataframe tbody tr th:only-of-type {\n",
              "        vertical-align: middle;\n",
              "    }\n",
              "\n",
              "    .dataframe tbody tr th {\n",
              "        vertical-align: top;\n",
              "    }\n",
              "\n",
              "    .dataframe thead th {\n",
              "        text-align: right;\n",
              "    }\n",
              "</style>\n",
              "<table border=\"1\" class=\"dataframe\">\n",
              "  <thead>\n",
              "    <tr style=\"text-align: right;\">\n",
              "      <th></th>\n",
              "      <th>Covid-19</th>\n",
              "      <th>Age</th>\n",
              "      <th>Temp(f)</th>\n",
              "      <th>Pulse(bpm)</th>\n",
              "      <th>Respiratory(/m)</th>\n",
              "      <th>spo2</th>\n",
              "    </tr>\n",
              "  </thead>\n",
              "  <tbody>\n",
              "    <tr>\n",
              "      <th>0</th>\n",
              "      <td>0</td>\n",
              "      <td>30</td>\n",
              "      <td>99.2</td>\n",
              "      <td>88</td>\n",
              "      <td>22</td>\n",
              "      <td>96</td>\n",
              "    </tr>\n",
              "    <tr>\n",
              "      <th>1</th>\n",
              "      <td>0</td>\n",
              "      <td>30</td>\n",
              "      <td>98.9</td>\n",
              "      <td>92</td>\n",
              "      <td>20</td>\n",
              "      <td>95</td>\n",
              "    </tr>\n",
              "    <tr>\n",
              "      <th>2</th>\n",
              "      <td>0</td>\n",
              "      <td>30</td>\n",
              "      <td>96.0</td>\n",
              "      <td>72</td>\n",
              "      <td>20</td>\n",
              "      <td>94</td>\n",
              "    </tr>\n",
              "    <tr>\n",
              "      <th>3</th>\n",
              "      <td>0</td>\n",
              "      <td>35</td>\n",
              "      <td>97.6</td>\n",
              "      <td>90</td>\n",
              "      <td>18</td>\n",
              "      <td>93</td>\n",
              "    </tr>\n",
              "    <tr>\n",
              "      <th>4</th>\n",
              "      <td>0</td>\n",
              "      <td>35</td>\n",
              "      <td>98.4</td>\n",
              "      <td>74</td>\n",
              "      <td>20</td>\n",
              "      <td>94</td>\n",
              "    </tr>\n",
              "  </tbody>\n",
              "</table>\n",
              "</div>"
            ],
            "text/plain": [
              "   Covid-19  Age  Temp(f)  Pulse(bpm)  Respiratory(/m)  spo2\n",
              "0         0   30     99.2          88               22    96\n",
              "1         0   30     98.9          92               20    95\n",
              "2         0   30     96.0          72               20    94\n",
              "3         0   35     97.6          90               18    93\n",
              "4         0   35     98.4          74               20    94"
            ]
          },
          "execution_count": 4,
          "metadata": {},
          "output_type": "execute_result"
        }
      ],
      "source": [
        "# Explore data\n",
        "\n",
        "df = pd.read_csv('covid_data.csv')\n",
        "df = df[['Covid-19','Age','Temp(f)','Pulse(bpm)','Respiratory(/m)','spo2']] \t\n",
        "\n",
        "df.head()"
      ]
    },
    {
      "cell_type": "code",
      "execution_count": 8,
      "metadata": {},
      "outputs": [],
      "source": [
        "df= df.drop('Age',axis=1)"
      ]
    },
    {
      "cell_type": "code",
      "execution_count": 9,
      "metadata": {
        "colab": {
          "base_uri": "https://localhost:8080/",
          "height": 206
        },
        "id": "YDy5o3wBm0_k",
        "outputId": "c3aa66bf-cc15-490b-897d-2ef3ca462904"
      },
      "outputs": [
        {
          "data": {
            "text/html": [
              "<div>\n",
              "<style scoped>\n",
              "    .dataframe tbody tr th:only-of-type {\n",
              "        vertical-align: middle;\n",
              "    }\n",
              "\n",
              "    .dataframe tbody tr th {\n",
              "        vertical-align: top;\n",
              "    }\n",
              "\n",
              "    .dataframe thead th {\n",
              "        text-align: right;\n",
              "    }\n",
              "</style>\n",
              "<table border=\"1\" class=\"dataframe\">\n",
              "  <thead>\n",
              "    <tr style=\"text-align: right;\">\n",
              "      <th></th>\n",
              "      <th>Covid-19</th>\n",
              "      <th>Temp(f)</th>\n",
              "      <th>Pulse(bpm)</th>\n",
              "      <th>Respiratory(/m)</th>\n",
              "      <th>spo2</th>\n",
              "    </tr>\n",
              "  </thead>\n",
              "  <tbody>\n",
              "    <tr>\n",
              "      <th>145</th>\n",
              "      <td>1</td>\n",
              "      <td>97.2</td>\n",
              "      <td>88</td>\n",
              "      <td>20</td>\n",
              "      <td>92</td>\n",
              "    </tr>\n",
              "    <tr>\n",
              "      <th>146</th>\n",
              "      <td>1</td>\n",
              "      <td>97.4</td>\n",
              "      <td>86</td>\n",
              "      <td>22</td>\n",
              "      <td>93</td>\n",
              "    </tr>\n",
              "    <tr>\n",
              "      <th>147</th>\n",
              "      <td>1</td>\n",
              "      <td>99.4</td>\n",
              "      <td>110</td>\n",
              "      <td>24</td>\n",
              "      <td>92</td>\n",
              "    </tr>\n",
              "    <tr>\n",
              "      <th>148</th>\n",
              "      <td>1</td>\n",
              "      <td>100.0</td>\n",
              "      <td>88</td>\n",
              "      <td>20</td>\n",
              "      <td>94</td>\n",
              "    </tr>\n",
              "    <tr>\n",
              "      <th>149</th>\n",
              "      <td>0</td>\n",
              "      <td>98.0</td>\n",
              "      <td>78</td>\n",
              "      <td>29</td>\n",
              "      <td>97</td>\n",
              "    </tr>\n",
              "  </tbody>\n",
              "</table>\n",
              "</div>"
            ],
            "text/plain": [
              "     Covid-19  Temp(f)  Pulse(bpm)  Respiratory(/m)  spo2\n",
              "145         1     97.2          88               20    92\n",
              "146         1     97.4          86               22    93\n",
              "147         1     99.4         110               24    92\n",
              "148         1    100.0          88               20    94\n",
              "149         0     98.0          78               29    97"
            ]
          },
          "execution_count": 9,
          "metadata": {},
          "output_type": "execute_result"
        }
      ],
      "source": [
        "df.tail()"
      ]
    },
    {
      "cell_type": "code",
      "execution_count": 11,
      "metadata": {
        "id": "x2wd5exSa64p"
      },
      "outputs": [],
      "source": [
        "# Split data into train test sets\n",
        "\n",
        "from sklearn.model_selection import train_test_split\n",
        "trainingSet, testSet = train_test_split(df, test_size=0.3)"
      ]
    },
    {
      "cell_type": "code",
      "execution_count": 12,
      "metadata": {
        "id": "adkqunikbhGd"
      },
      "outputs": [],
      "source": [
        "# Creating the dataframes for training and test datasets\n",
        "train_df = trainingSet\n",
        "test_df = testSet\n",
        "\n",
        "#Clean the missing values if needed\n",
        "#train_df = train_df.dropna()\n",
        "#test_df = test_df.dropna()\n"
      ]
    },
    {
      "cell_type": "code",
      "execution_count": 14,
      "metadata": {
        "id": "1YUwLtOBb1MN"
      },
      "outputs": [],
      "source": [
        "#Since the data is already split into Train and Test datasets, load the values into X_train, X_test, y_train, y_test\n",
        "#X_train = train_df.iloc[:,:-1].values\n",
        "#y_train = train_df.iloc[:,1].values\n",
        "#X_test = test_df.iloc[:,:-1].values\n",
        "#y_test = test_df.iloc[:,1].values\n",
        "\n",
        "X_train = train_df[['Temp(f)','Pulse(bpm)','Respiratory(/m)','spo2']] \t\n",
        "\n",
        "y_train = train_df['Covid-19']\n",
        "\n",
        "X_test = test_df[['Temp(f)','Pulse(bpm)','Respiratory(/m)','spo2']] \t\n",
        "\n",
        "y_test = test_df['Covid-19']\n",
        "\n"
      ]
    },
    {
      "cell_type": "code",
      "execution_count": 15,
      "metadata": {
        "colab": {
          "base_uri": "https://localhost:8080/"
        },
        "id": "TtKeefg-b_NK",
        "outputId": "ba8ab858-a163-465f-c6aa-d653be449d75"
      },
      "outputs": [
        {
          "data": {
            "text/plain": [
              "126    1\n",
              "16     1\n",
              "99     1\n",
              "54     1\n",
              "44     1\n",
              "Name: Covid-19, dtype: int64"
            ]
          },
          "execution_count": 15,
          "metadata": {},
          "output_type": "execute_result"
        }
      ],
      "source": [
        "\n",
        "y_test.head()"
      ]
    },
    {
      "cell_type": "markdown",
      "metadata": {
        "id": "1gZ169R5gfuj"
      },
      "source": [
        "### Data Exploration"
      ]
    },
    {
      "cell_type": "code",
      "execution_count": 16,
      "metadata": {
        "colab": {
          "base_uri": "https://localhost:8080/"
        },
        "id": "Nd-4WFlCgqYM",
        "outputId": "de7573ef-f470-465f-8235-3e0562610274"
      },
      "outputs": [
        {
          "data": {
            "text/plain": [
              "1    64\n",
              "0    41\n",
              "Name: Covid-19, dtype: int64"
            ]
          },
          "execution_count": 16,
          "metadata": {},
          "output_type": "execute_result"
        }
      ],
      "source": [
        "y_train.value_counts()"
      ]
    },
    {
      "cell_type": "code",
      "execution_count": 17,
      "metadata": {
        "colab": {
          "base_uri": "https://localhost:8080/",
          "height": 357
        },
        "id": "svCiKJdVcE5b",
        "outputId": "d9d8b0f8-09f6-442d-8f18-35ad888eb57f"
      },
      "outputs": [
        {
          "name": "stderr",
          "output_type": "stream",
          "text": [
            "/home/chilli4ick/.local/lib/python3.8/site-packages/seaborn/_decorators.py:36: FutureWarning: Pass the following variable as a keyword arg: x. From version 0.12, the only valid positional argument will be `data`, and passing other arguments without an explicit keyword will result in an error or misinterpretation.\n",
            "  warnings.warn(\n"
          ]
        },
        {
          "data": {
            "image/png": "[encoded data removed]",
            "text/plain": [
              "<Figure size 432x288 with 1 Axes>"
            ]
          },
          "metadata": {},
          "output_type": "display_data"
        },
        {
          "data": {
            "text/plain": [
              "<Figure size 432x288 with 0 Axes>"
            ]
          },
          "metadata": {},
          "output_type": "display_data"
        }
      ],
      "source": [
        "sns.countplot(\"Covid-19\", data=train_df, palette='Blues_d')\n",
        "plt.show()\n",
        "plt.savefig('count_plot')"
      ]
    },
    {
      "cell_type": "code",
      "execution_count": 18,
      "metadata": {
        "colab": {
          "base_uri": "https://localhost:8080/"
        },
        "id": "INzp8XibdoxH",
        "outputId": "cddad4ea-b34e-42bf-aa89-0f468f257d29"
      },
      "outputs": [
        {
          "name": "stdout",
          "output_type": "stream",
          "text": [
            "percentage of non Covid is 39.04761904761905\n",
            "percentage of Covid 60.952380952380956\n"
          ]
        }
      ],
      "source": [
        "count_nonCovid = len(train_df[train_df['Covid-19']==0])\n",
        "count_Covid = len(train_df[train_df['Covid-19']==1])\n",
        "pct_of_nonCovid = count_nonCovid/(count_nonCovid+count_Covid)\n",
        "print(\"percentage of non Covid is\", pct_of_nonCovid*100)\n",
        "pct_of_Covid = count_Covid/(count_nonCovid+count_Covid)\n",
        "print(\"percentage of Covid\", pct_of_Covid*100)\n"
      ]
    },
    {
      "cell_type": "code",
      "execution_count": 19,
      "metadata": {
        "colab": {
          "base_uri": "https://localhost:8080/",
          "height": 143
        },
        "id": "krqJFW0NiRIU",
        "outputId": "439a9fe7-b79e-44e5-e919-f5ee37e3a368"
      },
      "outputs": [
        {
          "data": {
            "text/html": [
              "<div>\n",
              "<style scoped>\n",
              "    .dataframe tbody tr th:only-of-type {\n",
              "        vertical-align: middle;\n",
              "    }\n",
              "\n",
              "    .dataframe tbody tr th {\n",
              "        vertical-align: top;\n",
              "    }\n",
              "\n",
              "    .dataframe thead th {\n",
              "        text-align: right;\n",
              "    }\n",
              "</style>\n",
              "<table border=\"1\" class=\"dataframe\">\n",
              "  <thead>\n",
              "    <tr style=\"text-align: right;\">\n",
              "      <th></th>\n",
              "      <th>Temp(f)</th>\n",
              "      <th>Pulse(bpm)</th>\n",
              "      <th>Respiratory(/m)</th>\n",
              "      <th>spo2</th>\n",
              "    </tr>\n",
              "    <tr>\n",
              "      <th>Covid-19</th>\n",
              "      <th></th>\n",
              "      <th></th>\n",
              "      <th></th>\n",
              "      <th></th>\n",
              "    </tr>\n",
              "  </thead>\n",
              "  <tbody>\n",
              "    <tr>\n",
              "      <th>0</th>\n",
              "      <td>329.858537</td>\n",
              "      <td>83.243902</td>\n",
              "      <td>22.658537</td>\n",
              "      <td>94.536585</td>\n",
              "    </tr>\n",
              "    <tr>\n",
              "      <th>1</th>\n",
              "      <td>96.764062</td>\n",
              "      <td>87.265625</td>\n",
              "      <td>20.968750</td>\n",
              "      <td>93.109375</td>\n",
              "    </tr>\n",
              "  </tbody>\n",
              "</table>\n",
              "</div>"
            ],
            "text/plain": [
              "             Temp(f)  Pulse(bpm)  Respiratory(/m)       spo2\n",
              "Covid-19                                                    \n",
              "0         329.858537   83.243902        22.658537  94.536585\n",
              "1          96.764062   87.265625        20.968750  93.109375"
            ]
          },
          "execution_count": 19,
          "metadata": {},
          "output_type": "execute_result"
        }
      ],
      "source": [
        "train_df.groupby('Covid-19').mean()"
      ]
    },
    {
      "cell_type": "code",
      "execution_count": 20,
      "metadata": {
        "colab": {
          "base_uri": "https://localhost:8080/",
          "height": 520
        },
        "id": "zc4Gz4z2TMEa",
        "outputId": "87b705bb-63e6-4426-dc32-cb5d8a64caf5"
      },
      "outputs": [
        {
          "data": {
            "text/html": [
              "<div>\n",
              "<style scoped>\n",
              "    .dataframe tbody tr th:only-of-type {\n",
              "        vertical-align: middle;\n",
              "    }\n",
              "\n",
              "    .dataframe tbody tr th {\n",
              "        vertical-align: top;\n",
              "    }\n",
              "\n",
              "    .dataframe thead th {\n",
              "        text-align: right;\n",
              "    }\n",
              "</style>\n",
              "<table border=\"1\" class=\"dataframe\">\n",
              "  <thead>\n",
              "    <tr style=\"text-align: right;\">\n",
              "      <th></th>\n",
              "      <th>Covid-19</th>\n",
              "      <th>Temp(f)</th>\n",
              "      <th>Pulse(bpm)</th>\n",
              "      <th>Respiratory(/m)</th>\n",
              "    </tr>\n",
              "    <tr>\n",
              "      <th>spo2</th>\n",
              "      <th></th>\n",
              "      <th></th>\n",
              "      <th></th>\n",
              "      <th></th>\n",
              "    </tr>\n",
              "  </thead>\n",
              "  <tbody>\n",
              "    <tr>\n",
              "      <th>35</th>\n",
              "      <td>1.000000</td>\n",
              "      <td>97.200000</td>\n",
              "      <td>80.000000</td>\n",
              "      <td>20.000000</td>\n",
              "    </tr>\n",
              "    <tr>\n",
              "      <th>85</th>\n",
              "      <td>1.000000</td>\n",
              "      <td>96.600000</td>\n",
              "      <td>98.000000</td>\n",
              "      <td>22.000000</td>\n",
              "    </tr>\n",
              "    <tr>\n",
              "      <th>86</th>\n",
              "      <td>1.000000</td>\n",
              "      <td>97.400000</td>\n",
              "      <td>98.000000</td>\n",
              "      <td>20.000000</td>\n",
              "    </tr>\n",
              "    <tr>\n",
              "      <th>88</th>\n",
              "      <td>1.000000</td>\n",
              "      <td>99.000000</td>\n",
              "      <td>112.000000</td>\n",
              "      <td>24.000000</td>\n",
              "    </tr>\n",
              "    <tr>\n",
              "      <th>89</th>\n",
              "      <td>0.500000</td>\n",
              "      <td>97.650000</td>\n",
              "      <td>72.000000</td>\n",
              "      <td>23.000000</td>\n",
              "    </tr>\n",
              "    <tr>\n",
              "      <th>90</th>\n",
              "      <td>0.600000</td>\n",
              "      <td>97.840000</td>\n",
              "      <td>81.200000</td>\n",
              "      <td>21.200000</td>\n",
              "    </tr>\n",
              "    <tr>\n",
              "      <th>91</th>\n",
              "      <td>0.500000</td>\n",
              "      <td>97.500000</td>\n",
              "      <td>82.000000</td>\n",
              "      <td>20.000000</td>\n",
              "    </tr>\n",
              "    <tr>\n",
              "      <th>92</th>\n",
              "      <td>0.777778</td>\n",
              "      <td>97.955556</td>\n",
              "      <td>86.888889</td>\n",
              "      <td>20.888889</td>\n",
              "    </tr>\n",
              "    <tr>\n",
              "      <th>93</th>\n",
              "      <td>0.692308</td>\n",
              "      <td>98.076923</td>\n",
              "      <td>87.846154</td>\n",
              "      <td>21.384615</td>\n",
              "    </tr>\n",
              "    <tr>\n",
              "      <th>94</th>\n",
              "      <td>0.550000</td>\n",
              "      <td>98.195000</td>\n",
              "      <td>87.100000</td>\n",
              "      <td>20.000000</td>\n",
              "    </tr>\n",
              "    <tr>\n",
              "      <th>95</th>\n",
              "      <td>0.583333</td>\n",
              "      <td>890.600000</td>\n",
              "      <td>87.000000</td>\n",
              "      <td>21.166667</td>\n",
              "    </tr>\n",
              "    <tr>\n",
              "      <th>96</th>\n",
              "      <td>0.444444</td>\n",
              "      <td>97.566667</td>\n",
              "      <td>87.000000</td>\n",
              "      <td>24.444444</td>\n",
              "    </tr>\n",
              "    <tr>\n",
              "      <th>97</th>\n",
              "      <td>0.533333</td>\n",
              "      <td>95.126667</td>\n",
              "      <td>80.800000</td>\n",
              "      <td>21.666667</td>\n",
              "    </tr>\n",
              "    <tr>\n",
              "      <th>98</th>\n",
              "      <td>1.000000</td>\n",
              "      <td>89.650000</td>\n",
              "      <td>80.000000</td>\n",
              "      <td>21.500000</td>\n",
              "    </tr>\n",
              "    <tr>\n",
              "      <th>99</th>\n",
              "      <td>1.000000</td>\n",
              "      <td>98.000000</td>\n",
              "      <td>88.000000</td>\n",
              "      <td>22.000000</td>\n",
              "    </tr>\n",
              "  </tbody>\n",
              "</table>\n",
              "</div>"
            ],
            "text/plain": [
              "      Covid-19     Temp(f)  Pulse(bpm)  Respiratory(/m)\n",
              "spo2                                                   \n",
              "35    1.000000   97.200000   80.000000        20.000000\n",
              "85    1.000000   96.600000   98.000000        22.000000\n",
              "86    1.000000   97.400000   98.000000        20.000000\n",
              "88    1.000000   99.000000  112.000000        24.000000\n",
              "89    0.500000   97.650000   72.000000        23.000000\n",
              "90    0.600000   97.840000   81.200000        21.200000\n",
              "91    0.500000   97.500000   82.000000        20.000000\n",
              "92    0.777778   97.955556   86.888889        20.888889\n",
              "93    0.692308   98.076923   87.846154        21.384615\n",
              "94    0.550000   98.195000   87.100000        20.000000\n",
              "95    0.583333  890.600000   87.000000        21.166667\n",
              "96    0.444444   97.566667   87.000000        24.444444\n",
              "97    0.533333   95.126667   80.800000        21.666667\n",
              "98    1.000000   89.650000   80.000000        21.500000\n",
              "99    1.000000   98.000000   88.000000        22.000000"
            ]
          },
          "execution_count": 20,
          "metadata": {},
          "output_type": "execute_result"
        }
      ],
      "source": [
        "train_df.groupby('spo2').mean()"
      ]
    },
    {
      "cell_type": "code",
      "execution_count": null,
      "metadata": {
        "id": "HsuEzo9_tnGD"
      },
      "outputs": [],
      "source": []
    },
    {
      "cell_type": "markdown",
      "metadata": {
        "id": "jw8XnJRyEz4r"
      },
      "source": [
        "### Model Development and Prediction\n",
        "Import the Scikit Learn Logistic Regression module \n",
        "Fit model on the train set using fit() then perform prediction on test set using prediction"
      ]
    },
    {
      "cell_type": "code",
      "execution_count": 21,
      "metadata": {
        "id": "4T-FpxI6wMaT"
      },
      "outputs": [],
      "source": [
        "from sklearn.linear_model import LogisticRegression\n",
        "logreg = LogisticRegression()\n",
        "logreg.fit(X_train,y_train)\n",
        "y_pred = logreg.predict(X_test)"
      ]
    },
    {
      "cell_type": "code",
      "execution_count": 26,
      "metadata": {
        "id": "gETra_K7FSEm"
      },
      "outputs": [],
      "source": [
        "file = open('model.pkl', 'wb')"
      ]
    },
    {
      "cell_type": "code",
      "execution_count": 28,
      "metadata": {},
      "outputs": [],
      "source": [
        "import pickle\n",
        "pickle.dump(logreg, file)\n",
        "file.close()\n"
      ]
    },
    {
      "cell_type": "markdown",
      "metadata": {
        "id": "wT5KSeK_FT16"
      },
      "source": [
        "### Evaluate model using confusion matrix\n",
        "This is basically looking at how well your model did on predictions"
      ]
    },
    {
      "cell_type": "code",
      "execution_count": 22,
      "metadata": {
        "colab": {
          "base_uri": "https://localhost:8080/"
        },
        "id": "--6mhjfrwNJq",
        "outputId": "74fccdc5-385e-4fec-b394-db02bf11c489"
      },
      "outputs": [
        {
          "data": {
            "text/plain": [
              "array([[ 6, 10],\n",
              "       [ 5, 24]])"
            ]
          },
          "execution_count": 22,
          "metadata": {},
          "output_type": "execute_result"
        }
      ],
      "source": [
        "from sklearn import metrics\n",
        "cnf_matrix = metrics.confusion_matrix(y_test, y_pred)\n",
        "cnf_matrix"
      ]
    },
    {
      "cell_type": "markdown",
      "metadata": {
        "id": "2uJKYyzkFvVM"
      },
      "source": [
        "### Visualize CFM (confusion matrix) using a heatmap"
      ]
    },
    {
      "cell_type": "code",
      "execution_count": 23,
      "metadata": {
        "id": "qKysrjL1wPk-"
      },
      "outputs": [],
      "source": [
        "import numpy as np\n",
        "import matplotlib.pyplot as plt\n",
        "import seaborn as sns\n",
        "%matplotlib inline"
      ]
    },
    {
      "cell_type": "code",
      "execution_count": 24,
      "metadata": {
        "colab": {
          "base_uri": "https://localhost:8080/",
          "height": 340
        },
        "id": "ZcblkSys9TOm",
        "outputId": "e0c49abe-3a91-41fd-98f1-3842d7aa57ea"
      },
      "outputs": [
        {
          "data": {
            "text/plain": [
              "Text(0.5, 257.44, 'Predicted label')"
            ]
          },
          "execution_count": 24,
          "metadata": {},
          "output_type": "execute_result"
        },
        {
          "data": {
            "image/png": "[encoded data removed]",
            "text/plain": [
              "<Figure size 432x288 with 2 Axes>"
            ]
          },
          "metadata": {
            "needs_background": "light"
          },
          "output_type": "display_data"
        }
      ],
      "source": [
        "class_names=[0,1] # name  of classes\n",
        "fig, ax = plt.subplots()\n",
        "tick_marks = np.arange(len(class_names))\n",
        "plt.xticks(tick_marks, class_names)\n",
        "plt.yticks(tick_marks, class_names)\n",
        "# create heatmap\n",
        "sns.heatmap(pd.DataFrame(cnf_matrix), annot=True, cmap=\"YlGnBu\" ,fmt='g')\n",
        "ax.xaxis.set_label_position(\"top\")\n",
        "plt.tight_layout()\n",
        "plt.title('Confusion matrix', y=1.1)\n",
        "plt.ylabel('Actual label')\n",
        "plt.xlabel('Predicted label')"
      ]
    },
    {
      "cell_type": "markdown",
      "metadata": {
        "id": "bwFsPmQQGIiR"
      },
      "source": [
        "### CFM evaluation metrics Accuracy, Precision, Recall"
      ]
    },
    {
      "cell_type": "code",
      "execution_count": 25,
      "metadata": {
        "colab": {
          "base_uri": "https://localhost:8080/"
        },
        "id": "glRCpnJN9WAG",
        "outputId": "85b4a909-bd04-47d2-d457-7160d0425db9"
      },
      "outputs": [
        {
          "name": "stdout",
          "output_type": "stream",
          "text": [
            "Accuracy: 0.6666666666666666\n",
            "Precision: 0.7058823529411765\n",
            "Recall: 0.8275862068965517\n"
          ]
        }
      ],
      "source": [
        "print(\"Accuracy:\",metrics.accuracy_score(y_test, y_pred))\n",
        "print(\"Precision:\",metrics.precision_score(y_test, y_pred))\n",
        "print(\"Recall:\",metrics.recall_score(y_test, y_pred))"
      ]
    },
    {
      "cell_type": "markdown",
      "metadata": {
        "id": "6FOw7SPCGTlg"
      },
      "source": [
        "### ROC (Receiver Operation Characteristic) Curve\n",
        "Plotting true positive rate against false positie rate. Shows tradeoff between sensitivity and specificity. \n",
        "\n",
        "### What is AUC - ROC Curve? (credit https://towardsdatascience.com/understanding-auc-roc-curve-68b2303cc9c5)\n",
        "#### AUC - ROC curve \n",
        "Is a performance measurement for classification problem at various thresholds settings. ROC is a probability curve and AUC represents degree or measure of separability. It tells how much model is capable of distinguishing between classes. Higher the AUC, better the model is at predicting 0s as 0s and 1s as 1s. By analogy, Higher the AUC, better the model is at distinguishing between patients with disease and no disease.\n",
        "\n",
        "* The ROC curve is plotted with TPR against the FPR where TPR is on y-axis and FPR is on the x-axis."
      ]
    },
    {
      "cell_type": "code",
      "execution_count": null,
      "metadata": {
        "colab": {
          "base_uri": "https://localhost:8080/",
          "height": 268
        },
        "id": "6JAbJD5l9cM4",
        "outputId": "1c7e9fd7-73a8-4c4d-86cf-d842fd630038"
      },
      "outputs": [
        {
          "data": {
            "image/png": "[encoded data removed]",
            "text/plain": [
              "<Figure size 432x288 with 1 Axes>"
            ]
          },
          "metadata": {
            "needs_background": "light"
          },
          "output_type": "display_data"
        }
      ],
      "source": [
        "y_pred_proba = logreg.predict_proba(X_test)[::,1]\n",
        "fpr, tpr, _ = metrics.roc_curve(y_test,  y_pred_proba)\n",
        "auc = metrics.roc_auc_score(y_test, y_pred_proba)\n",
        "plt.plot(fpr,tpr,label=\"data 1, auc=\"+str(auc))\n",
        "plt.legend(loc=4)\n",
        "plt.show()"
      ]
    },
    {
      "cell_type": "code",
      "execution_count": null,
      "metadata": {
        "id": "hcZ4wJIf9nZ0"
      },
      "outputs": [],
      "source": []
    }
  ],
  "metadata": {
    "colab": {
      "collapsed_sections": [],
      "name": "Copy of LogisticRegression.ipynb",
      "provenance": [],
      "toc_visible": true
    },
    "kernelspec": {
      "display_name": "Python 3",
      "name": "python3"
    },
    "language_info": {
      "codemirror_mode": {
        "name": "ipython",
        "version": 3
      },
      "file_extension": ".py",
      "mimetype": "text/x-python",
      "name": "python",
      "nbconvert_exporter": "python",
      "pygments_lexer": "ipython3",
      "version": "3.8.10"
    }
  },
  "nbformat": 4,
  "nbformat_minor": 0
}
